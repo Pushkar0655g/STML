{
  "nbformat": 4,
  "nbformat_minor": 0,
  "metadata": {
    "colab": {
      "provenance": [],
      "mount_file_id": "1DK8q552baYMscKFGVwrS1aEO-6T3R3eP",
      "authorship_tag": "ABX9TyNzPY9Y3O2JOQR6lgSDhYUi",
      "include_colab_link": true
    },
    "kernelspec": {
      "name": "python3",
      "display_name": "Python 3"
    },
    "language_info": {
      "name": "python"
    }
  },
  "cells": [
    {
      "cell_type": "markdown",
      "metadata": {
        "id": "view-in-github",
        "colab_type": "text"
      },
      "source": [
        "<a href=\"https://colab.research.google.com/github/Pushkar0655g/STML/blob/main/_stml_project_bmw_t2.ipynb\" target=\"_parent\"><img src=\"https://colab.research.google.com/assets/colab-badge.svg\" alt=\"Open In Colab\"/></a>"
      ]
    },
    {
      "cell_type": "markdown",
      "source": [
        "LINEAR REGRESSION"
      ],
      "metadata": {
        "id": "wDcyrnyuAvKn"
      }
    },
    {
      "cell_type": "code",
      "execution_count": 3,
      "metadata": {
        "id": "6YpXnTe2XW7W",
        "colab": {
          "base_uri": "https://localhost:8080/"
        },
        "outputId": "3a4d8b27-d07c-4af9-a9a9-4a3aee9091ab"
      },
      "outputs": [
        {
          "output_type": "stream",
          "name": "stdout",
          "text": [
            "Drive already mounted at /content/drive; to attempt to forcibly remount, call drive.mount(\"/content/drive\", force_remount=True).\n",
            "Mean Squared Error: 46264837.98100206\n",
            "Coefficients: [ 2.02780506e+03 -1.28122103e-01  3.71788224e+00  2.16644225e+01\n",
            "  1.01278373e+04]\n",
            "Intercept: -4087880.544287102\n"
          ]
        }
      ],
      "source": [
        "from google.colab import drive\n",
        "drive.mount('/content/drive')\n",
        "\n",
        "import pandas as pd\n",
        "from sklearn.model_selection import train_test_split\n",
        "from sklearn.linear_model import LinearRegression\n",
        "from sklearn.metrics import mean_squared_error\n",
        "\n",
        "# Load the dataset\n",
        "data = pd.read_csv('/content/drive/MyDrive/bmw.csv')\n",
        "\n",
        "# Select features and target variable\n",
        "X = data[['year', 'mileage', 'tax', 'mpg', 'engineSize']]\n",
        "y = data['price']\n",
        "\n",
        "# Split the data into training and testing sets\n",
        "X_train, X_test, y_train, y_test = train_test_split(X, y, test_size=0.2, random_state=42)\n",
        "\n",
        "# Initialize and train the linear regression model\n",
        "model = LinearRegression()\n",
        "model.fit(X_train, y_train)\n",
        "\n",
        "# Make predictions and calculate Mean Squared Error\n",
        "y_pred = model.predict(X_test)\n",
        "mse = mean_squared_error(y_test, y_pred)\n",
        "\n",
        "# Output the results\n",
        "print(\"Mean Squared Error:\", mse)\n",
        "print(\"Coefficients:\", model.coef_)\n",
        "print(\"Intercept:\", model.intercept_)\n"
      ]
    },
    {
      "cell_type": "markdown",
      "source": [
        "KNN"
      ],
      "metadata": {
        "id": "Ry3HZNcKA1ki"
      }
    },
    {
      "cell_type": "code",
      "source": [
        "# Import necessary libraries\n",
        "import pandas as pd\n",
        "import numpy as np\n",
        "from sklearn.model_selection import train_test_split\n",
        "from sklearn.preprocessing import MinMaxScaler\n",
        "from sklearn.neighbors import KNeighborsRegressor\n",
        "from sklearn.metrics import mean_squared_error, mean_absolute_error, r2_score\n",
        "\n",
        "# Load the dataset\n",
        "data = pd.read_csv('/content/drive/MyDrive/bmw.csv')\n",
        "\n",
        "# Data Preprocessing\n",
        "# Handle missing values\n",
        "data.fillna(method='ffill', inplace=True)\n",
        "\n",
        "# Check for correct column names\n",
        "print(data.columns)  # Print the available columns to verify\n",
        "\n",
        "# Convert categorical variables into numerical\n",
        "# Replace 'Transmission', 'Fuel Type', 'Model' with the actual column names from your dataset\n",
        "# Assuming the actual column names are 'transmission', 'fuelType', 'model'\n",
        "data['transmission'] = data['transmission'].astype('category').cat.codes\n",
        "data['fuelType'] = data['fuelType'].astype('category').cat.codes\n",
        "data['model'] = data['model'].astype('category').cat.codes\n",
        "\n",
        "# Split features and target variable\n",
        "# Replace 'Price' with the actual target column name from your dataset\n",
        "# Assuming the actual target column name is 'price'\n",
        "X = data.drop(columns=['price'])  # Features\n",
        "y = data['price']  # Target variable\n",
        "\n",
        "# Normalize the features\n",
        "scaler = MinMaxScaler()\n",
        "X_scaled = scaler.fit_transform(X)\n",
        "\n",
        "# Split the data into training and testing sets\n",
        "X_train, X_test, y_train, y_test = train_test_split(X_scaled, y, test_size=0.3, random_state=42)\n",
        "\n",
        "# Train the KNN model\n",
        "knn = KNeighborsRegressor(n_neighbors=5)  # Using k=5\n",
        "knn.fit(X_train, y_train)\n",
        "\n",
        "# Predict on the test set\n",
        "y_pred = knn.predict(X_test)\n",
        "\n",
        "# Evaluate the model\n",
        "mse = mean_squared_error(y_test, y_pred)\n",
        "mae = mean_absolute_error(y_test, y_pred)\n",
        "r2 = r2_score(y_test, y_pred)\n",
        "\n",
        "# Print evaluation metrics\n",
        "print(f\"Mean Squared Error (MSE): {mse}\")\n",
        "print(f\"Mean Absolute Error (MAE): {mae}\")\n",
        "print(f\"R² Score: {r2}\")\n",
        "\n",
        "# Example Prediction\n",
        "example_data = X_test[:5]  # Take 5 examples from the test set\n",
        "example_predictions = knn.predict(example_data)\n",
        "print(\"Example Predictions:\", example_predictions)"
      ],
      "metadata": {
        "colab": {
          "base_uri": "https://localhost:8080/"
        },
        "id": "547kDUDo_Btw",
        "outputId": "f2e392d7-6e1b-4e49-f24a-94ecc4d570cd"
      },
      "execution_count": 4,
      "outputs": [
        {
          "output_type": "stream",
          "name": "stdout",
          "text": [
            "Index(['model', 'year', 'price', 'transmission', 'mileage', 'fuelType', 'tax',\n",
            "       'mpg', 'engineSize'],\n",
            "      dtype='object')\n",
            "Mean Squared Error (MSE): 9388391.668006182\n",
            "Mean Absolute Error (MAE): 1810.1391035548686\n",
            "R² Score: 0.9271427964970483\n",
            "Example Predictions: [13585.4 14372.4 41246.2 21694.  14966.8]\n"
          ]
        },
        {
          "output_type": "stream",
          "name": "stderr",
          "text": [
            "<ipython-input-4-37d8d4ae1b9a>:14: FutureWarning: DataFrame.fillna with 'method' is deprecated and will raise in a future version. Use obj.ffill() or obj.bfill() instead.\n",
            "  data.fillna(method='ffill', inplace=True)\n"
          ]
        }
      ]
    },
    {
      "cell_type": "markdown",
      "source": [
        "DECISION TREE"
      ],
      "metadata": {
        "id": "kwRbDtDmA32b"
      }
    },
    {
      "cell_type": "code",
      "source": [
        "# Mount Google Drive\n",
        "from google.colab import drive\n",
        "drive.mount('/content/drive')\n",
        "\n",
        "# Import necessary libraries\n",
        "import pandas as pd\n",
        "from sklearn.model_selection import train_test_split\n",
        "from sklearn.tree import DecisionTreeClassifier\n",
        "from sklearn.metrics import accuracy_score, classification_report\n",
        "import random\n",
        "from sklearn.preprocessing import LabelEncoder # Import LabelEncoder for encoding categorical features\n",
        "\n",
        "# Load the dataset (update the path as needed)\n",
        "data = pd.read_csv('/content/drive/MyDrive/bmw.csv')\n",
        "\n",
        "# Randomly select features and a target column\n",
        "all_columns = data.columns.tolist()\n",
        "target = random.choice(all_columns)  # Select a random target\n",
        "features = random.sample([col for col in all_columns if col != target], k=min(3, len(all_columns) - 1))\n",
        "\n",
        "X = data[features]\n",
        "y = data[target]\n",
        "\n",
        "# Initialize LabelEncoder\n",
        "encoder = LabelEncoder()\n",
        "\n",
        "# Iterate through features and encode if they are of type 'object' (categorical)\n",
        "for feature in features:\n",
        "    if X[feature].dtype == 'object':\n",
        "        X[feature] = encoder.fit_transform(X[feature])\n",
        "\n",
        "# Split the data into training and testing sets\n",
        "X_train, X_test, y_train, y_test = train_test_split(X, y, test_size=0.2, random_state=42)\n",
        "\n",
        "# Initialize and train the Decision Tree model\n",
        "tree = DecisionTreeClassifier(random_state=42)\n",
        "tree.fit(X_train, y_train)\n",
        "\n",
        "# Make predictions\n",
        "y_pred = tree.predict(X_test)\n",
        "\n",
        "# Evaluate the model\n",
        "accuracy = accuracy_score(y_test, y_pred)\n",
        "report = classification_report(y_test, y_pred)\n",
        "\n",
        "print(\"Selected Features:\", features)\n",
        "print(\"Target Variable:\", target)\n",
        "print(\"Accuracy:\", accuracy)\n",
        "print(\"Classification Report:\\n\", report)"
      ],
      "metadata": {
        "colab": {
          "base_uri": "https://localhost:8080/"
        },
        "id": "yECHokVF_mir",
        "outputId": "660e7f60-9f7f-408d-af2a-9d79e673c7af"
      },
      "execution_count": 7,
      "outputs": [
        {
          "output_type": "stream",
          "name": "stdout",
          "text": [
            "Mounted at /content/drive\n",
            "Selected Features: ['price', 'mpg', 'engineSize']\n",
            "Target Variable: model\n",
            "Accuracy: 0.6152063050533148\n",
            "Classification Report:\n",
            "               precision    recall  f1-score   support\n",
            "\n",
            "    1 Series       0.67      0.68      0.68       374\n",
            "    2 Series       0.48      0.51      0.50       232\n",
            "    3 Series       0.65      0.68      0.66       485\n",
            "    4 Series       0.43      0.40      0.42       207\n",
            "    5 Series       0.50      0.46      0.48       211\n",
            "    6 Series       0.46      0.63      0.53        19\n",
            "    7 Series       0.81      0.65      0.72        26\n",
            "    8 Series       0.40      0.33      0.36         6\n",
            "          M2       0.83      0.83      0.83         6\n",
            "          M3       0.29      0.40      0.33         5\n",
            "          M4       0.89      0.89      0.89        27\n",
            "          M5       0.56      0.71      0.62         7\n",
            "          M6       0.00      0.00      0.00         4\n",
            "          X1       0.56      0.59      0.58       170\n",
            "          X2       0.69      0.58      0.63        59\n",
            "          X3       0.89      0.79      0.84       123\n",
            "          X4       0.69      0.76      0.72        38\n",
            "          X5       0.75      0.79      0.77        91\n",
            "          X6       0.61      0.50      0.55        22\n",
            "          X7       1.00      0.90      0.95        10\n",
            "          Z3       0.00      0.00      0.00         1\n",
            "          Z4       0.60      0.60      0.60        20\n",
            "          i3       1.00      1.00      1.00        10\n",
            "          i8       1.00      0.75      0.86         4\n",
            "\n",
            "    accuracy                           0.62      2157\n",
            "   macro avg       0.62      0.60      0.61      2157\n",
            "weighted avg       0.62      0.62      0.61      2157\n",
            "\n"
          ]
        },
        {
          "output_type": "stream",
          "name": "stderr",
          "text": [
            "/usr/local/lib/python3.10/dist-packages/sklearn/metrics/_classification.py:1531: UndefinedMetricWarning: Precision is ill-defined and being set to 0.0 in labels with no predicted samples. Use `zero_division` parameter to control this behavior.\n",
            "  _warn_prf(average, modifier, f\"{metric.capitalize()} is\", len(result))\n",
            "/usr/local/lib/python3.10/dist-packages/sklearn/metrics/_classification.py:1531: UndefinedMetricWarning: Precision is ill-defined and being set to 0.0 in labels with no predicted samples. Use `zero_division` parameter to control this behavior.\n",
            "  _warn_prf(average, modifier, f\"{metric.capitalize()} is\", len(result))\n",
            "/usr/local/lib/python3.10/dist-packages/sklearn/metrics/_classification.py:1531: UndefinedMetricWarning: Precision is ill-defined and being set to 0.0 in labels with no predicted samples. Use `zero_division` parameter to control this behavior.\n",
            "  _warn_prf(average, modifier, f\"{metric.capitalize()} is\", len(result))\n"
          ]
        }
      ]
    },
    {
      "cell_type": "markdown",
      "source": [
        "RANDOM FOREST"
      ],
      "metadata": {
        "id": "t1lABfALA9Oi"
      }
    },
    {
      "cell_type": "code",
      "source": [
        "# Mount Google Drive\n",
        "from google.colab import drive\n",
        "drive.mount('/content/drive')\n",
        "\n",
        "# Import necessary libraries\n",
        "import pandas as pd\n",
        "from sklearn.model_selection import train_test_split\n",
        "from sklearn.ensemble import RandomForestClassifier\n",
        "from sklearn.metrics import accuracy_score, classification_report\n",
        "import random\n",
        "from sklearn.preprocessing import LabelEncoder # Import LabelEncoder\n",
        "\n",
        "# Load the dataset\n",
        "data = pd.read_csv('/content/drive/MyDrive/bmw.csv')\n",
        "\n",
        "# Randomly select features and a target column\n",
        "all_columns = data.columns.tolist()\n",
        "target = random.choice(all_columns)  # Select a random target\n",
        "features = random.sample([col for col in all_columns if col != target], k=min(3, len(all_columns) - 1))\n",
        "\n",
        "X = data[features]\n",
        "y = data[target]\n",
        "\n",
        "# Initialize LabelEncoder\n",
        "encoder = LabelEncoder()\n",
        "\n",
        "# Iterate through features and encode if they are of type 'object' (categorical)\n",
        "for feature in features:\n",
        "    if X[feature].dtype == 'object':\n",
        "        X[feature] = encoder.fit_transform(X[feature])\n",
        "\n",
        "# Split the data into training and testing sets\n",
        "X_train, X_test, y_train, y_test = train_test_split(X, y, test_size=0.2, random_state=42)\n",
        "\n",
        "# Initialize and train the Random Forest model\n",
        "forest = RandomForestClassifier(random_state=42)\n",
        "forest.fit(X_train, y_train)\n",
        "\n",
        "# Make predictions\n",
        "y_pred = forest.predict(X_test)\n",
        "\n",
        "# Evaluate the model\n",
        "accuracy = accuracy_score(y_test, y_pred)\n",
        "report = classification_report(y_test, y_pred)\n",
        "\n",
        "print(\"Selected Features:\", features)\n",
        "print(\"Target Variable:\", target)\n",
        "print(\"Accuracy:\", accuracy)\n",
        "print(\"Classification Report:\\n\", report)"
      ],
      "metadata": {
        "colab": {
          "base_uri": "https://localhost:8080/"
        },
        "id": "BZhqjjjNA8o1",
        "outputId": "edecb5af-b079-4862-de3d-9d10e5817f06"
      },
      "execution_count": 8,
      "outputs": [
        {
          "output_type": "stream",
          "name": "stdout",
          "text": [
            "Drive already mounted at /content/drive; to attempt to forcibly remount, call drive.mount(\"/content/drive\", force_remount=True).\n"
          ]
        },
        {
          "output_type": "stream",
          "name": "stderr",
          "text": [
            "<ipython-input-8-d976a846b617>:30: SettingWithCopyWarning: \n",
            "A value is trying to be set on a copy of a slice from a DataFrame.\n",
            "Try using .loc[row_indexer,col_indexer] = value instead\n",
            "\n",
            "See the caveats in the documentation: https://pandas.pydata.org/pandas-docs/stable/user_guide/indexing.html#returning-a-view-versus-a-copy\n",
            "  X[feature] = encoder.fit_transform(X[feature])\n"
          ]
        },
        {
          "output_type": "stream",
          "name": "stdout",
          "text": [
            "Selected Features: ['transmission', 'price', 'tax']\n",
            "Target Variable: fuelType\n",
            "Accuracy: 0.6606397774687065\n",
            "Classification Report:\n",
            "               precision    recall  f1-score   support\n",
            "\n",
            "      Diesel       0.74      0.75      0.74      1400\n",
            "    Electric       0.00      0.00      0.00         1\n",
            "      Hybrid       0.81      0.73      0.77        59\n",
            "       Other       0.00      0.00      0.00         7\n",
            "      Petrol       0.49      0.48      0.49       690\n",
            "\n",
            "    accuracy                           0.66      2157\n",
            "   macro avg       0.41      0.39      0.40      2157\n",
            "weighted avg       0.66      0.66      0.66      2157\n",
            "\n"
          ]
        },
        {
          "output_type": "stream",
          "name": "stderr",
          "text": [
            "/usr/local/lib/python3.10/dist-packages/sklearn/metrics/_classification.py:1531: UndefinedMetricWarning: Precision is ill-defined and being set to 0.0 in labels with no predicted samples. Use `zero_division` parameter to control this behavior.\n",
            "  _warn_prf(average, modifier, f\"{metric.capitalize()} is\", len(result))\n",
            "/usr/local/lib/python3.10/dist-packages/sklearn/metrics/_classification.py:1531: UndefinedMetricWarning: Precision is ill-defined and being set to 0.0 in labels with no predicted samples. Use `zero_division` parameter to control this behavior.\n",
            "  _warn_prf(average, modifier, f\"{metric.capitalize()} is\", len(result))\n",
            "/usr/local/lib/python3.10/dist-packages/sklearn/metrics/_classification.py:1531: UndefinedMetricWarning: Precision is ill-defined and being set to 0.0 in labels with no predicted samples. Use `zero_division` parameter to control this behavior.\n",
            "  _warn_prf(average, modifier, f\"{metric.capitalize()} is\", len(result))\n"
          ]
        }
      ]
    },
    {
      "cell_type": "markdown",
      "source": [
        "\n",
        "SUPPORT VECTOR REGRESSION"
      ],
      "metadata": {
        "id": "HOlxxWo3Bm0x"
      }
    },
    {
      "cell_type": "code",
      "source": [
        "from google.colab import drive\n",
        "drive.mount('/content/drive')\n",
        "\n",
        "import pandas as pd\n",
        "from sklearn.model_selection import train_test_split\n",
        "from sklearn.svm import SVR\n",
        "from sklearn.preprocessing import StandardScaler\n",
        "\n",
        "# Load the dataset\n",
        "data = pd.read_csv('/content/drive/MyDrive/bmw.csv')\n",
        "\n",
        "# Select features and target variable\n",
        "X = data[['year', 'mileage', 'tax', 'mpg', 'engineSize']]\n",
        "y = data['price']\n",
        "\n",
        "# Split the dataset into training and testing sets\n",
        "X_train, X_test, y_train, y_test = train_test_split(X, y, test_size=0.2, random_state=42)\n",
        "\n",
        "# Feature scaling\n",
        "scaler_X = StandardScaler()\n",
        "scaler_y = StandardScaler()\n",
        "\n",
        "X_train = scaler_X.fit_transform(X_train)\n",
        "y_train = scaler_y.fit_transform(y_train.values.reshape(-1, 1)).flatten()\n",
        "X_test = scaler_X.transform(X_test)\n",
        "\n",
        "# Create and train the SVR model\n",
        "model = SVR(kernel='rbf')\n",
        "model.fit(X_train, y_train)\n",
        "\n",
        "# Make predictions\n",
        "predictions = scaler_y.inverse_transform(model.predict(X_test).reshape(-1, 1))\n",
        "\n",
        "# Display predictions\n",
        "print(predictions)"
      ],
      "metadata": {
        "colab": {
          "base_uri": "https://localhost:8080/"
        },
        "id": "tL0eXt4OBoEG",
        "outputId": "e0ceeda0-244a-4f26-b38c-a4e0538b2510"
      },
      "execution_count": 9,
      "outputs": [
        {
          "output_type": "stream",
          "name": "stdout",
          "text": [
            "Drive already mounted at /content/drive; to attempt to forcibly remount, call drive.mount(\"/content/drive\", force_remount=True).\n",
            "[[14532.19709216]\n",
            " [13857.18403488]\n",
            " [44407.89411913]\n",
            " ...\n",
            " [25488.92970704]\n",
            " [42940.88350705]\n",
            " [40623.51998956]]\n"
          ]
        }
      ]
    },
    {
      "cell_type": "markdown",
      "source": [
        "RMSE, MAE\n",
        "Confidence Intervals and Prediction Intervals\n",
        "Learning Curves ."
      ],
      "metadata": {
        "id": "L1fsqNfaCPkV"
      }
    },
    {
      "cell_type": "code",
      "source": [
        "from google.colab import drive\n",
        "drive.mount('/content/drive')\n",
        "\n",
        "import pandas as pd\n",
        "import numpy as np\n",
        "import matplotlib.pyplot as plt\n",
        "from sklearn.model_selection import train_test_split, learning_curve\n",
        "from sklearn.svm import SVR\n",
        "from sklearn.metrics import mean_squared_error, mean_absolute_error\n",
        "from sklearn.preprocessing import StandardScaler\n",
        "import statsmodels.api as sm\n",
        "\n",
        "# Load the dataset\n",
        "data = pd.read_csv('/content/drive/MyDrive/bmw.csv')\n",
        "\n",
        "# Select features and target variable\n",
        "X = data[['year', 'mileage', 'tax', 'mpg', 'engineSize']]\n",
        "y = data['price']\n",
        "\n",
        "# Split the dataset into training and testing sets\n",
        "X_train, X_test, y_train, y_test = train_test_split(X, y, test_size=0.2, random_state=42)\n",
        "\n",
        "# Feature scaling\n",
        "scaler_X = StandardScaler()\n",
        "scaler_y = StandardScaler()\n",
        "\n",
        "X_train = scaler_X.fit_transform(X_train)\n",
        "y_train = scaler_y.fit_transform(y_train.values.reshape(-1, 1)).flatten()\n",
        "X_test = scaler_X.transform(X_test)\n",
        "\n",
        "# Create and train the SVR model\n",
        "model = SVR(kernel='rbf')\n",
        "model.fit(X_train, y_train)\n",
        "\n",
        "# Make predictions\n",
        "y_pred = scaler_y.inverse_transform(model.predict(X_test).reshape(-1, 1))\n",
        "\n",
        "# Calculate RMSE and MAE\n",
        "rmse = np.sqrt(mean_squared_error(y_test, y_pred))\n",
        "mae = mean_absolute_error(y_test, y_pred)\n",
        "\n",
        "print(f'RMSE: {rmse}')\n",
        "print(f'MAE: {mae}')\n",
        "\n",
        "# Confidence Intervals\n",
        "predictions = model.predict(X_test)\n",
        "predictions_std = np.std(predictions)\n",
        "confidence_interval = 1.96 * predictions_std / np.sqrt(len(predictions))\n",
        "\n",
        "print(f'Confidence Interval: ±{confidence_interval}')\n",
        "\n",
        "# Prediction Intervals (using a simple method)\n",
        "predicted_mean = np.mean(predictions)\n",
        "prediction_interval_lower = predicted_mean - confidence_interval\n",
        "prediction_interval_upper = predicted_mean + confidence_interval\n",
        "\n",
        "print(f'Prediction Interval: [{prediction_interval_lower}, {prediction_interval_upper}]')\n",
        "\n",
        "# Learning Curves\n",
        "train_sizes, train_scores, test_scores = learning_curve(model, X_train, y_train, cv=5)\n",
        "\n",
        "train_scores_mean = np.mean(train_scores, axis=1)\n",
        "test_scores_mean = np.mean(test_scores, axis=1)\n",
        "\n",
        "plt.figure()\n",
        "plt.plot(train_sizes, train_scores_mean, label='Training score')\n",
        "plt.plot(train_sizes, test_scores_mean, label='Cross-validation score')\n",
        "plt.title('Learning Curves')\n",
        "plt.xlabel('Training examples')\n",
        "plt.ylabel('Score')\n",
        "plt.legend()\n",
        "plt.grid()\n",
        "plt.show()"
      ],
      "metadata": {
        "colab": {
          "base_uri": "https://localhost:8080/",
          "height": 563
        },
        "id": "4T4pvO0cCfMT",
        "outputId": "b8654c62-8b0e-4095-91e7-45fa590671bc"
      },
      "execution_count": 10,
      "outputs": [
        {
          "output_type": "stream",
          "name": "stdout",
          "text": [
            "Drive already mounted at /content/drive; to attempt to forcibly remount, call drive.mount(\"/content/drive\", force_remount=True).\n",
            "RMSE: 4936.805932840208\n",
            "MAE: 2987.7127989685155\n",
            "Confidence Interval: ±0.037536924208160787\n",
            "Prediction Interval: [-0.036091517130373285, 0.03898233128594829]\n"
          ]
        },
        {
          "output_type": "display_data",
          "data": {
            "text/plain": [
              "<Figure size 640x480 with 1 Axes>"
            ],
            "image/png": "[encoded data removed]"
          },
          "metadata": {}
        }
      ]
    }
  ]
}